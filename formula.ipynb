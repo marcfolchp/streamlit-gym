{
 "cells": [
  {
   "cell_type": "code",
   "execution_count": 528,
   "metadata": {},
   "outputs": [],
   "source": [
    "def score(w, r):\n",
    "    return round(((((w) * 16) + r) - (w * 12)), 0)"
   ]
  },
  {
   "cell_type": "code",
   "execution_count": 529,
   "metadata": {},
   "outputs": [
    {
     "data": {
      "text/plain": [
       "(96, 76, 46, 46.0, 4)"
      ]
     },
     "execution_count": 529,
     "metadata": {},
     "output_type": "execute_result"
    }
   ],
   "source": [
    "score(20, 16), score(15, 16), score(10, 6), score(7.5, 16), score(1, 0)"
   ]
  },
  {
   "cell_type": "code",
   "execution_count": 537,
   "metadata": {},
   "outputs": [],
   "source": [
    "# Performance-based Elo System\n",
    "\n",
    "class ExerciseElo:\n",
    "    def __init__(self, initial_elo=1000, k_factor=32):\n",
    "        self.elo = initial_elo\n",
    "        self.k_factor = k_factor\n",
    "        self.previous_score = None  # Holds the previous performance score\n",
    "\n",
    "    def calculate_performance(self, weight, reps):\n",
    "        return round(((((weight) * 16) + reps) - (weight * 12)), 0)  # Your custom formula\n",
    "\n",
    "    def update_elo(self, weight, reps):\n",
    "        # Calculate the current performance score\n",
    "        current_score = self.calculate_performance(weight, reps)\n",
    "        \n",
    "        # If no previous performance exists, initialize and exit\n",
    "        if self.previous_score is None:\n",
    "            self.previous_score = current_score\n",
    "            print(\"First session recorded. Elo remains unchanged.\")\n",
    "            return self.elo\n",
    "\n",
    "        # Calculate the percentage change in performance\n",
    "        performance_change = ((current_score - self.previous_score) / self.previous_score) * 100\n",
    "\n",
    "        # Calculate the Elo adjustment based on performance change\n",
    "        elo_adjustment = self.k_factor * (performance_change / 10)  # Normalize to a proportion\n",
    "\n",
    "        # Update the Elo score\n",
    "        self.elo += elo_adjustment\n",
    "        self.previous_score = current_score  # Update the previous score for the next session\n",
    "\n",
    "        print(f\"Performance Change: {performance_change:.2f}%, Elo Adjustment: {elo_adjustment:.2f}\")\n",
    "        print(f\"New Elo Score: {self.elo:.2f}\")\n",
    "\n",
    "        return self.elo\n"
   ]
  },
  {
   "cell_type": "code",
   "execution_count": 538,
   "metadata": {},
   "outputs": [
    {
     "name": "stdout",
     "output_type": "stream",
     "text": [
      "\n",
      "Session 1: Weight = 50 kg, Reps = 16\n",
      "First session recorded. Elo remains unchanged.\n",
      "\n",
      "Session 2: Weight = 55 kg, Reps = 16\n",
      "Performance Change: 9.26%, Elo Adjustment: 29.63\n",
      "New Elo Score: 1029.63\n",
      "\n",
      "Session 3: Weight = 55 kg, Reps = 12\n",
      "Performance Change: -1.69%, Elo Adjustment: -5.42\n",
      "New Elo Score: 1024.21\n",
      "\n",
      "Session 4: Weight = 60 kg, Reps = 16\n",
      "Performance Change: 10.34%, Elo Adjustment: 33.10\n",
      "New Elo Score: 1057.31\n",
      "\n",
      "Session 5: Weight = 57.5 kg, Reps = 14\n",
      "Performance Change: -4.69%, Elo Adjustment: -15.00\n",
      "New Elo Score: 1042.31\n"
     ]
    }
   ],
   "source": [
    "# Initialize the Elo rating system for Chest Press\n",
    "chest_press_elo = ExerciseElo(initial_elo=1000, k_factor=32)\n",
    "\n",
    "# Simulated gym sessions\n",
    "sessions = [\n",
    "    {\"weight\": 50, \"reps\": 16},  # First session (baseline)\n",
    "    {\"weight\": 55, \"reps\": 16},  # Improved weight\n",
    "    {\"weight\": 55, \"reps\": 12},  # Dropped reps\n",
    "    {\"weight\": 60, \"reps\": 16},  # Significant improvement\n",
    "    {\"weight\": 57.5, \"reps\": 14} # Slight drop\n",
    "]\n",
    "\n",
    "# Update Elo for each session\n",
    "for idx, session in enumerate(sessions):\n",
    "    print(f\"\\nSession {idx + 1}: Weight = {session['weight']} kg, Reps = {session['reps']}\")\n",
    "    chest_press_elo.update_elo(session['weight'], session['reps'])"
   ]
  }
 ],
 "metadata": {
  "kernelspec": {
   "display_name": "ironhack",
   "language": "python",
   "name": "python3"
  },
  "language_info": {
   "codemirror_mode": {
    "name": "ipython",
    "version": 3
   },
   "file_extension": ".py",
   "mimetype": "text/x-python",
   "name": "python",
   "nbconvert_exporter": "python",
   "pygments_lexer": "ipython3",
   "version": "3.11.5"
  }
 },
 "nbformat": 4,
 "nbformat_minor": 2
}
